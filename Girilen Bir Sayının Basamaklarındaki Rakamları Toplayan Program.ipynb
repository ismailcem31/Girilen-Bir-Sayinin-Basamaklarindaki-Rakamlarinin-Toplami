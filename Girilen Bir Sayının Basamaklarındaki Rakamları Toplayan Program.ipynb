{
 "cells": [
  {
   "cell_type": "code",
   "execution_count": null,
   "id": "22efc848",
   "metadata": {},
   "outputs": [],
   "source": [
    "# Kullanıcıdan bir sayı al\n",
    "sayi = int(input(\"Lütfen bir sayı giriniz: \"))\n",
    " \n",
    "# 0'dan girilen sayıya kadar olan sayıları topla\n",
    "toplam = 0\n",
    "for i in range(sayi + 1):\n",
    "    toplam += i\n",
    " \n",
    "# Toplamı yazdır\n",
    "print(\"Girdiğiniz sayıya kadar olan sayıların toplamı:\", toplam)"
   ]
  }
 ],
 "metadata": {
  "kernelspec": {
   "display_name": "Python 3 (ipykernel)",
   "language": "python",
   "name": "python3"
  },
  "language_info": {
   "codemirror_mode": {
    "name": "ipython",
    "version": 3
   },
   "file_extension": ".py",
   "mimetype": "text/x-python",
   "name": "python",
   "nbconvert_exporter": "python",
   "pygments_lexer": "ipython3",
   "version": "3.11.3"
  }
 },
 "nbformat": 4,
 "nbformat_minor": 5
}
